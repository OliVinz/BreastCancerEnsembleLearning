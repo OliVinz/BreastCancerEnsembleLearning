{
 "cells": [
  {
   "cell_type": "markdown",
   "metadata": {},
   "source": [
    "# Project on Breast Cancer using Esemble Learning\n",
    "## by Oliver Vinzelberg\n",
    "\n"
   ]
  },
  {
   "cell_type": "markdown",
   "metadata": {},
   "source": [
    "## Theory\n",
    "Following up on what we learned about accuracy as the performance measure (namely that it is not always a reliable indicator of quality, especially with *skewed* data sets), let us look at two alternatives, where the second is definitely more suited for *diagnostic tests*.\n",
    "\n",
    "Your task is to read up on [Cohen's $\\kappa$](https://en.wikipedia.org/wiki/Cohen%27s_kappa) and also on [Youden's J](https://en.wikipedia.org/wiki/Youden%27s_J_statistic) and write the formulas for their respective calculations in terms of the quantities introduced on the last page of the [PDF provided](Klassifikation_Fehlergroessen.pdf) (in German)."
   ]
  },
  {
   "cell_type": "markdown",
   "metadata": {},
   "source": [
    "$$\n",
    "\\kappa = \\frac{\\beta - \\theta}{1 - \\theta} = 1 - \\frac{1 - \\beta}{1 - \\theta}\n",
    "$$\n",
    "where \n",
    "$$\n",
    "\\beta = \\frac{\\tau_{pos} + \\tau_{neg}}{\\tau_{pos} + \\varphi_{neg} + \\varphi_{pos} + \\tau_{neg}}\n",
    "$$\n",
    "and\n",
    "$$\n",
    "\\theta = (\\frac{\\tau_{pos} + \\varphi_{pos}}{\\tau_{pos} + \\varphi_{neg} + \\varphi_{pos} + \\tau_{neg}} * \\frac{\\tau_{pos} + \\varphi_{neg}}{\\tau_{pos} + \\varphi_{neg} + \\varphi_{pos} + \\tau_{neg}} + \\frac{\\varphi_{neg} + \\tau_{neg}}{\\tau_{pos} + \\varphi_{neg} + \\varphi_{pos} + \\tau_{neg}} * \\frac{\\varphi_{pos} + \\tau_{neg}}{\\tau_{pos} + \\varphi_{neg} + \\varphi_{pos} + \\tau_{neg}})\n",
    "$$"
   ]
  },
  {
   "cell_type": "markdown",
   "metadata": {},
   "source": [
    " "
   ]
  },
  {
   "cell_type": "markdown",
   "metadata": {},
   "source": [
    "$$\n",
    "J = \\frac{\\tau_{pos}}{\\tau_{pos} + \\varphi_{neg}} + \\frac{\\tau_{neg}}{\\tau_{neg} + \\varphi_{pos}} - 1\n",
    "$$"
   ]
  },
  {
   "cell_type": "markdown",
   "metadata": {},
   "source": [
    "__Hint:__ The example given for Cohen's $\\kappa$ looks a lot like the confusion matrix ...\n",
    "\n",
    "Finally, read the explanation for *balanced accuracy score* in [`scikit learn`](https://scikit-learn.org/stable/modules/model_evaluation.html) (subsection 3.3.2.3 which is followed by an explanation of Cohen's $\\kappa$ ...). Then, write the formula for the balanced accuracy $a_{\\text{bal}}$ in the *binary case* also in terms of the quantities from the above PDF."
   ]
  },
  {
   "cell_type": "markdown",
   "metadata": {},
   "source": [
    "$$\n",
    "a_{\\text{bal}} = \\frac{\\frac{\\tau_{pos}}{\\tau_{pos} + \\varphi_{neg}} + \\frac{\\tau_{neg}}{\\varphi_{pos} +  \\tau_{neg}}}{2}\n",
    "$$"
   ]
  },
  {
   "cell_type": "markdown",
   "metadata": {},
   "source": [
    "## Practical Part"
   ]
  },
  {
   "cell_type": "code",
   "execution_count": 1,
   "metadata": {},
   "outputs": [],
   "source": [
    "import matplotlib.pyplot as plt\n",
    "import numpy as np\n",
    "import pandas as pd\n",
    "%matplotlib inline\n",
    "from sklearn import datasets\n",
    "from sklearn.model_selection import train_test_split \n",
    "from sklearn.preprocessing import StandardScaler\n",
    "from sklearn.preprocessing import LabelEncoder\n",
    "from sklearn.tree import DecisionTreeClassifier\n",
    "import warnings # this will silence warnings that are likely to appear during GridSearch (but also others ...)\n",
    "warnings.filterwarnings(\"ignore\")"
   ]
  },
  {
   "cell_type": "markdown",
   "metadata": {},
   "source": [
    "### 1. Prepare Data Set"
   ]
  },
  {
   "cell_type": "markdown",
   "metadata": {},
   "source": [
    "#### A. Obtain the data\n",
    "1. Import the [breast cancer dataset](https://scikit-learn.org/stable/datasets/index.html#breast-cancer-wisconsin-diagnostic-dataset)\n",
    "2. Check that the class labels are already encoded"
   ]
  },
  {
   "cell_type": "code",
   "execution_count": 2,
   "metadata": {},
   "outputs": [],
   "source": [
    "breastcancer = datasets.load_breast_cancer()"
   ]
  },
  {
   "cell_type": "code",
   "execution_count": 3,
   "metadata": {},
   "outputs": [
    {
     "data": {
      "text/plain": [
       "sklearn.utils.Bunch"
      ]
     },
     "execution_count": 3,
     "metadata": {},
     "output_type": "execute_result"
    }
   ],
   "source": [
    "type(breastcancer)"
   ]
  },
  {
   "cell_type": "code",
   "execution_count": 4,
   "metadata": {},
   "outputs": [
    {
     "name": "stdout",
     "output_type": "stream",
     "text": [
      ".. _breast_cancer_dataset:\n",
      "\n",
      "Breast cancer wisconsin (diagnostic) dataset\n",
      "--------------------------------------------\n",
      "\n",
      "**Data Set Characteristics:**\n",
      "\n",
      "    :Number of Instances: 569\n",
      "\n",
      "    :Number of Attributes: 30 numeric, predictive attributes and the class\n",
      "\n",
      "    :Attribute Information:\n",
      "        - radius (mean of distances from center to points on the perimeter)\n",
      "        - texture (standard deviation of gray-scale values)\n",
      "        - perimeter\n",
      "        - area\n",
      "        - smoothness (local variation in radius lengths)\n",
      "        - compactness (perimeter^2 / area - 1.0)\n",
      "        - concavity (severity of concave portions of the contour)\n",
      "        - concave points (number of concave portions of the contour)\n",
      "        - symmetry \n",
      "        - fractal dimension (\"coastline approximation\" - 1)\n",
      "\n",
      "        The mean, standard error, and \"worst\" or largest (mean of the three\n",
      "        largest values) of these features were computed for each image,\n",
      "        resulting in 30 features.  For instance, field 3 is Mean Radius, field\n",
      "        13 is Radius SE, field 23 is Worst Radius.\n",
      "\n",
      "        - class:\n",
      "                - WDBC-Malignant\n",
      "                - WDBC-Benign\n",
      "\n",
      "    :Summary Statistics:\n",
      "\n",
      "    ===================================== ====== ======\n",
      "                                           Min    Max\n",
      "    ===================================== ====== ======\n",
      "    radius (mean):                        6.981  28.11\n",
      "    texture (mean):                       9.71   39.28\n",
      "    perimeter (mean):                     43.79  188.5\n",
      "    area (mean):                          143.5  2501.0\n",
      "    smoothness (mean):                    0.053  0.163\n",
      "    compactness (mean):                   0.019  0.345\n",
      "    concavity (mean):                     0.0    0.427\n",
      "    concave points (mean):                0.0    0.201\n",
      "    symmetry (mean):                      0.106  0.304\n",
      "    fractal dimension (mean):             0.05   0.097\n",
      "    radius (standard error):              0.112  2.873\n",
      "    texture (standard error):             0.36   4.885\n",
      "    perimeter (standard error):           0.757  21.98\n",
      "    area (standard error):                6.802  542.2\n",
      "    smoothness (standard error):          0.002  0.031\n",
      "    compactness (standard error):         0.002  0.135\n",
      "    concavity (standard error):           0.0    0.396\n",
      "    concave points (standard error):      0.0    0.053\n",
      "    symmetry (standard error):            0.008  0.079\n",
      "    fractal dimension (standard error):   0.001  0.03\n",
      "    radius (worst):                       7.93   36.04\n",
      "    texture (worst):                      12.02  49.54\n",
      "    perimeter (worst):                    50.41  251.2\n",
      "    area (worst):                         185.2  4254.0\n",
      "    smoothness (worst):                   0.071  0.223\n",
      "    compactness (worst):                  0.027  1.058\n",
      "    concavity (worst):                    0.0    1.252\n",
      "    concave points (worst):               0.0    0.291\n",
      "    symmetry (worst):                     0.156  0.664\n",
      "    fractal dimension (worst):            0.055  0.208\n",
      "    ===================================== ====== ======\n",
      "\n",
      "    :Missing Attribute Values: None\n",
      "\n",
      "    :Class Distribution: 212 - Malignant, 357 - Benign\n",
      "\n",
      "    :Creator:  Dr. William H. Wolberg, W. Nick Street, Olvi L. Mangasarian\n",
      "\n",
      "    :Donor: Nick Street\n",
      "\n",
      "    :Date: November, 1995\n",
      "\n",
      "This is a copy of UCI ML Breast Cancer Wisconsin (Diagnostic) datasets.\n",
      "https://goo.gl/U2Uwz2\n",
      "\n",
      "Features are computed from a digitized image of a fine needle\n",
      "aspirate (FNA) of a breast mass.  They describe\n",
      "characteristics of the cell nuclei present in the image.\n",
      "\n",
      "Separating plane described above was obtained using\n",
      "Multisurface Method-Tree (MSM-T) [K. P. Bennett, \"Decision Tree\n",
      "Construction Via Linear Programming.\" Proceedings of the 4th\n",
      "Midwest Artificial Intelligence and Cognitive Science Society,\n",
      "pp. 97-101, 1992], a classification method which uses linear\n",
      "programming to construct a decision tree.  Relevant features\n",
      "were selected using an exhaustive search in the space of 1-4\n",
      "features and 1-3 separating planes.\n",
      "\n",
      "The actual linear program used to obtain the separating plane\n",
      "in the 3-dimensional space is that described in:\n",
      "[K. P. Bennett and O. L. Mangasarian: \"Robust Linear\n",
      "Programming Discrimination of Two Linearly Inseparable Sets\",\n",
      "Optimization Methods and Software 1, 1992, 23-34].\n",
      "\n",
      "This database is also available through the UW CS ftp server:\n",
      "\n",
      "ftp ftp.cs.wisc.edu\n",
      "cd math-prog/cpo-dataset/machine-learn/WDBC/\n",
      "\n",
      ".. topic:: References\n",
      "\n",
      "   - W.N. Street, W.H. Wolberg and O.L. Mangasarian. Nuclear feature extraction \n",
      "     for breast tumor diagnosis. IS&T/SPIE 1993 International Symposium on \n",
      "     Electronic Imaging: Science and Technology, volume 1905, pages 861-870,\n",
      "     San Jose, CA, 1993.\n",
      "   - O.L. Mangasarian, W.N. Street and W.H. Wolberg. Breast cancer diagnosis and \n",
      "     prognosis via linear programming. Operations Research, 43(4), pages 570-577, \n",
      "     July-August 1995.\n",
      "   - W.H. Wolberg, W.N. Street, and O.L. Mangasarian. Machine learning techniques\n",
      "     to diagnose breast cancer from fine-needle aspirates. Cancer Letters 77 (1994) \n",
      "     163-171.\n"
     ]
    }
   ],
   "source": [
    "# description of the dataset\n",
    "print(breastcancer.DESCR)"
   ]
  },
  {
   "cell_type": "code",
   "execution_count": 5,
   "metadata": {},
   "outputs": [
    {
     "data": {
      "text/plain": [
       "array(['mean radius', 'mean texture', 'mean perimeter', 'mean area',\n",
       "       'mean smoothness', 'mean compactness', 'mean concavity',\n",
       "       'mean concave points', 'mean symmetry', 'mean fractal dimension',\n",
       "       'radius error', 'texture error', 'perimeter error', 'area error',\n",
       "       'smoothness error', 'compactness error', 'concavity error',\n",
       "       'concave points error', 'symmetry error',\n",
       "       'fractal dimension error', 'worst radius', 'worst texture',\n",
       "       'worst perimeter', 'worst area', 'worst smoothness',\n",
       "       'worst compactness', 'worst concavity', 'worst concave points',\n",
       "       'worst symmetry', 'worst fractal dimension'], dtype='<U23')"
      ]
     },
     "execution_count": 5,
     "metadata": {},
     "output_type": "execute_result"
    }
   ],
   "source": [
    "breastcancer.feature_names"
   ]
  },
  {
   "cell_type": "code",
   "execution_count": 6,
   "metadata": {},
   "outputs": [
    {
     "data": {
      "text/plain": [
       "array([0, 0, 0, 0, 0, 0, 0, 0, 0, 0, 0, 0, 0, 0, 0, 0, 0, 0, 0, 1, 1, 1,\n",
       "       0, 0, 0, 0, 0, 0, 0, 0, 0, 0, 0, 0, 0, 0, 0, 1, 0, 0, 0, 0, 0, 0,\n",
       "       0, 0, 1, 0, 1, 1, 1, 1, 1, 0, 0, 1, 0, 0, 1, 1, 1, 1, 0, 1, 0, 0,\n",
       "       1, 1, 1, 1, 0, 1, 0, 0, 1, 0, 1, 0, 0, 1, 1, 1, 0, 0, 1, 0, 0, 0,\n",
       "       1, 1, 1, 0, 1, 1, 0, 0, 1, 1, 1, 0, 0, 1, 1, 1, 1, 0, 1, 1, 0, 1,\n",
       "       1, 1, 1, 1, 1, 1, 1, 0, 0, 0, 1, 0, 0, 1, 1, 1, 0, 0, 1, 0, 1, 0,\n",
       "       0, 1, 0, 0, 1, 1, 0, 1, 1, 0, 1, 1, 1, 1, 0, 1, 1, 1, 1, 1, 1, 1,\n",
       "       1, 1, 0, 1, 1, 1, 1, 0, 0, 1, 0, 1, 1, 0, 0, 1, 1, 0, 0, 1, 1, 1,\n",
       "       1, 0, 1, 1, 0, 0, 0, 1, 0, 1, 0, 1, 1, 1, 0, 1, 1, 0, 0, 1, 0, 0,\n",
       "       0, 0, 1, 0, 0, 0, 1, 0, 1, 0, 1, 1, 0, 1, 0, 0, 0, 0, 1, 1, 0, 0,\n",
       "       1, 1, 1, 0, 1, 1, 1, 1, 1, 0, 0, 1, 1, 0, 1, 1, 0, 0, 1, 0, 1, 1,\n",
       "       1, 1, 0, 1, 1, 1, 1, 1, 0, 1, 0, 0, 0, 0, 0, 0, 0, 0, 0, 0, 0, 0,\n",
       "       0, 0, 1, 1, 1, 1, 1, 1, 0, 1, 0, 1, 1, 0, 1, 1, 0, 1, 0, 0, 1, 1,\n",
       "       1, 1, 1, 1, 1, 1, 1, 1, 1, 1, 1, 0, 1, 1, 0, 1, 0, 1, 1, 1, 1, 1,\n",
       "       1, 1, 1, 1, 1, 1, 1, 1, 1, 0, 1, 1, 1, 0, 1, 0, 1, 1, 1, 1, 0, 0,\n",
       "       0, 1, 1, 1, 1, 0, 1, 0, 1, 0, 1, 1, 1, 0, 1, 1, 1, 1, 1, 1, 1, 0,\n",
       "       0, 0, 1, 1, 1, 1, 1, 1, 1, 1, 1, 1, 1, 0, 0, 1, 0, 0, 0, 1, 0, 0,\n",
       "       1, 1, 1, 1, 1, 0, 1, 1, 1, 1, 1, 0, 1, 1, 1, 0, 1, 1, 0, 0, 1, 1,\n",
       "       1, 1, 1, 1, 0, 1, 1, 1, 1, 1, 1, 1, 0, 1, 1, 1, 1, 1, 0, 1, 1, 0,\n",
       "       1, 1, 1, 1, 1, 1, 1, 1, 1, 1, 1, 1, 0, 1, 0, 0, 1, 0, 1, 1, 1, 1,\n",
       "       1, 0, 1, 1, 0, 1, 0, 1, 1, 0, 1, 0, 1, 1, 1, 1, 1, 1, 1, 1, 0, 0,\n",
       "       1, 1, 1, 1, 1, 1, 0, 1, 1, 1, 1, 1, 1, 1, 1, 1, 1, 0, 1, 1, 1, 1,\n",
       "       1, 1, 1, 0, 1, 0, 1, 1, 0, 1, 1, 1, 1, 1, 0, 0, 1, 0, 1, 0, 1, 1,\n",
       "       1, 1, 1, 0, 1, 1, 0, 1, 0, 1, 0, 0, 1, 1, 1, 0, 1, 1, 1, 1, 1, 1,\n",
       "       1, 1, 1, 1, 1, 0, 1, 0, 0, 1, 1, 1, 1, 1, 1, 1, 1, 1, 1, 1, 1, 1,\n",
       "       1, 1, 1, 1, 1, 1, 1, 1, 1, 1, 1, 1, 0, 0, 0, 0, 0, 0, 1])"
      ]
     },
     "execution_count": 6,
     "metadata": {},
     "output_type": "execute_result"
    }
   ],
   "source": [
    "#targets are already encoded\n",
    "#only binary values -> perfect for binary classification\n",
    "breastcancer.target"
   ]
  },
  {
   "cell_type": "code",
   "execution_count": 7,
   "metadata": {},
   "outputs": [
    {
     "data": {
      "text/plain": [
       "array(['malignant', 'benign'], dtype='<U9')"
      ]
     },
     "execution_count": 7,
     "metadata": {},
     "output_type": "execute_result"
    }
   ],
   "source": [
    "breastcancer.target_names"
   ]
  },
  {
   "cell_type": "code",
   "execution_count": 8,
   "metadata": {},
   "outputs": [],
   "source": [
    "#breastcancer[breastcancer.feature_names]"
   ]
  },
  {
   "cell_type": "markdown",
   "metadata": {},
   "source": [
    "#### B. Prepare the data\n",
    "1. Apply *standard scaling*\n",
    "2. Split the data, setting aside 30% for testing"
   ]
  },
  {
   "cell_type": "markdown",
   "metadata": {},
   "source": [
    "1. "
   ]
  },
  {
   "cell_type": "code",
   "execution_count": 9,
   "metadata": {},
   "outputs": [
    {
     "data": {
      "text/plain": [
       "array([[1.799e+01, 1.038e+01, 1.228e+02, ..., 2.654e-01, 4.601e-01,\n",
       "        1.189e-01],\n",
       "       [2.057e+01, 1.777e+01, 1.329e+02, ..., 1.860e-01, 2.750e-01,\n",
       "        8.902e-02],\n",
       "       [1.969e+01, 2.125e+01, 1.300e+02, ..., 2.430e-01, 3.613e-01,\n",
       "        8.758e-02],\n",
       "       ...,\n",
       "       [1.660e+01, 2.808e+01, 1.083e+02, ..., 1.418e-01, 2.218e-01,\n",
       "        7.820e-02],\n",
       "       [2.060e+01, 2.933e+01, 1.401e+02, ..., 2.650e-01, 4.087e-01,\n",
       "        1.240e-01],\n",
       "       [7.760e+00, 2.454e+01, 4.792e+01, ..., 0.000e+00, 2.871e-01,\n",
       "        7.039e-02]])"
      ]
     },
     "execution_count": 9,
     "metadata": {},
     "output_type": "execute_result"
    }
   ],
   "source": [
    "#Before\n",
    "breastcancer.data"
   ]
  },
  {
   "cell_type": "code",
   "execution_count": 10,
   "metadata": {},
   "outputs": [],
   "source": [
    "scaler = StandardScaler()\n",
    "X = scaler.fit_transform(breastcancer.data)"
   ]
  },
  {
   "cell_type": "code",
   "execution_count": 11,
   "metadata": {},
   "outputs": [],
   "source": [
    "y = breastcancer.target"
   ]
  },
  {
   "cell_type": "code",
   "execution_count": 12,
   "metadata": {},
   "outputs": [
    {
     "data": {
      "text/plain": [
       "array([[ 1.09706398, -2.07333501,  1.26993369, ...,  2.29607613,\n",
       "         2.75062224,  1.93701461],\n",
       "       [ 1.82982061, -0.35363241,  1.68595471, ...,  1.0870843 ,\n",
       "        -0.24388967,  0.28118999],\n",
       "       [ 1.57988811,  0.45618695,  1.56650313, ...,  1.95500035,\n",
       "         1.152255  ,  0.20139121],\n",
       "       ...,\n",
       "       [ 0.70228425,  2.0455738 ,  0.67267578, ...,  0.41406869,\n",
       "        -1.10454895, -0.31840916],\n",
       "       [ 1.83834103,  2.33645719,  1.98252415, ...,  2.28998549,\n",
       "         1.91908301,  2.21963528],\n",
       "       [-1.80840125,  1.22179204, -1.81438851, ..., -1.74506282,\n",
       "        -0.04813821, -0.75120669]])"
      ]
     },
     "execution_count": 12,
     "metadata": {},
     "output_type": "execute_result"
    }
   ],
   "source": [
    "#After\n",
    "X"
   ]
  },
  {
   "cell_type": "markdown",
   "metadata": {},
   "source": [
    "2."
   ]
  },
  {
   "cell_type": "code",
   "execution_count": 13,
   "metadata": {},
   "outputs": [],
   "source": [
    "# split the data with 30% test size and 70% train size\n",
    "X_train, X_test, y_train, y_test = train_test_split(X, y, test_size=0.3, random_state=1)"
   ]
  },
  {
   "cell_type": "markdown",
   "metadata": {},
   "source": [
    "#### C. print out the number of training samples and test samples"
   ]
  },
  {
   "cell_type": "code",
   "execution_count": 14,
   "metadata": {},
   "outputs": [
    {
     "name": "stdout",
     "output_type": "stream",
     "text": [
      "Number of training data :  398\n",
      "Percentage of training data:  69.94727592267135 %\n",
      "----------------\n",
      "Number of testing data :  171\n",
      "Percentage of testing data:  30.052724077328648 %\n"
     ]
    }
   ],
   "source": [
    "print(\"Number of training data : \", len(X_train))\n",
    "print(\"Percentage of training data: \",len(X_train) * 100 / len(X), \"%\")\n",
    "print(\"----------------\")\n",
    "print(\"Number of testing data : \", len(y_test))\n",
    "print(\"Percentage of testing data: \",len(y_test) * 100 / len(X),\"%\")"
   ]
  },
  {
   "cell_type": "markdown",
   "metadata": {},
   "source": [
    "### 2. Select the most important features\n",
    "\n",
    "**Hint**: You might want to check the sample solution for the homework on classification to help with this ...\n",
    "#### A. Find features\n",
    "Use a Decision Tree classifier to select the two most important features and keep only those for training and testing"
   ]
  },
  {
   "cell_type": "code",
   "execution_count": 15,
   "metadata": {},
   "outputs": [
    {
     "data": {
      "text/plain": [
       "DecisionTreeClassifier(class_weight=None, criterion='gini', max_depth=3,\n",
       "            max_features=None, max_leaf_nodes=None,\n",
       "            min_impurity_decrease=0.0, min_impurity_split=None,\n",
       "            min_samples_leaf=1, min_samples_split=2,\n",
       "            min_weight_fraction_leaf=0.0, presort=False, random_state=None,\n",
       "            splitter='best')"
      ]
     },
     "execution_count": 15,
     "metadata": {},
     "output_type": "execute_result"
    }
   ],
   "source": [
    "dtree = DecisionTreeClassifier(criterion='gini',max_depth=3)\n",
    "dtree.fit(X,y)"
   ]
  },
  {
   "cell_type": "code",
   "execution_count": 16,
   "metadata": {},
   "outputs": [
    {
     "data": {
      "text/plain": [
       "{'mean radius': 0.0,\n",
       " 'mean texture': 0.0,\n",
       " 'mean perimeter': 0.0,\n",
       " 'mean area': 0.0,\n",
       " 'mean smoothness': 0.0,\n",
       " 'mean compactness': 0.0,\n",
       " 'mean concavity': 0.0,\n",
       " 'mean concave points': 0.0,\n",
       " 'mean symmetry': 0.0,\n",
       " 'mean fractal dimension': 0.0,\n",
       " 'radius error': 0.007960600327373758,\n",
       " 'texture error': 0.0,\n",
       " 'perimeter error': 0.0,\n",
       " 'area error': 0.0,\n",
       " 'smoothness error': 0.0,\n",
       " 'compactness error': 0.03464687147066776,\n",
       " 'concavity error': 0.0,\n",
       " 'concave points error': 0.0,\n",
       " 'symmetry error': 0.0,\n",
       " 'fractal dimension error': 0.0,\n",
       " 'worst radius': 0.7568813202167098,\n",
       " 'worst texture': 0.0759392407406667,\n",
       " 'worst perimeter': 0.0,\n",
       " 'worst area': 0.0,\n",
       " 'worst smoothness': 0.00803892766139344,\n",
       " 'worst compactness': 0.0,\n",
       " 'worst concavity': 0.0,\n",
       " 'worst concave points': 0.11653303958318843,\n",
       " 'worst symmetry': 0.0,\n",
       " 'worst fractal dimension': 0.0}"
      ]
     },
     "execution_count": 16,
     "metadata": {},
     "output_type": "execute_result"
    }
   ],
   "source": [
    "features = breastcancer.feature_names\n",
    "(dict(zip(features, dtree.feature_importances_)))"
   ]
  },
  {
   "cell_type": "markdown",
   "metadata": {},
   "source": [
    "The most important features are: worst radius, worst texture, mean concave points, mean texure, worst concave points, worst smoothness and worst symmetry."
   ]
  },
  {
   "cell_type": "markdown",
   "metadata": {},
   "source": [
    "#### B. Print the indexes of the most important features"
   ]
  },
  {
   "cell_type": "code",
   "execution_count": 17,
   "metadata": {},
   "outputs": [
    {
     "name": "stdout",
     "output_type": "stream",
     "text": [
      "Most important features indexes: [20, 27, 21, 15, 24, 10]\n"
     ]
    }
   ],
   "source": [
    "# I will only print indexes of features with importance > 0.0\n",
    "# output is sorted after importance from high to low\n",
    "important_features_dict = {}\n",
    "for x,i in enumerate(dtree.feature_importances_):\n",
    "    if(i != 0.0):\n",
    "        important_features_dict[x]=i\n",
    "important_features_list = sorted(important_features_dict, key=important_features_dict.get, reverse=True)\n",
    "\n",
    "print('Most important features indexes: %s' %important_features_list)"
   ]
  },
  {
   "cell_type": "code",
   "execution_count": 18,
   "metadata": {},
   "outputs": [
    {
     "data": {
      "text/plain": [
       "array(['worst radius', 'worst concave points'], dtype='<U23')"
      ]
     },
     "execution_count": 18,
     "metadata": {},
     "output_type": "execute_result"
    }
   ],
   "source": [
    "breastcancer.feature_names[[20, 27]]"
   ]
  },
  {
   "cell_type": "markdown",
   "metadata": {},
   "source": [
    "The two most important features are 'worst radius' and 'worst concave points'."
   ]
  },
  {
   "cell_type": "code",
   "execution_count": 19,
   "metadata": {},
   "outputs": [
    {
     "data": {
      "text/plain": [
       "numpy.ndarray"
      ]
     },
     "execution_count": 19,
     "metadata": {},
     "output_type": "execute_result"
    }
   ],
   "source": [
    "type(X)"
   ]
  },
  {
   "cell_type": "code",
   "execution_count": 20,
   "metadata": {},
   "outputs": [],
   "source": [
    "#Split the data again, but now only keep data from indexes 20 and 27\n",
    "X_train, X_test, y_train, y_test = train_test_split(X[:, [20, 27]], y, test_size=0.3, random_state=1)"
   ]
  },
  {
   "cell_type": "markdown",
   "metadata": {},
   "source": [
    "### 3. Construct and cross-validate a voting classifier\n",
    "1. Use a *perceptron* as one base classifier (with a maximum of 50 Iterations, a tolerance of $10^{-3}$ and a random state of $0$)\n",
    "2. Use a *Gaussian Naive Bayes* as the second base classifier (from the `naive_bayes` module; no parameters needed)\n",
    "3. Use a *Support Vector Classifier* as the third base classifier (from the `svm` module; set `gamma` to `'auto'` and choose a random state of $0$)\n",
    "4. Use *hard voting* in the voting classifier\n",
    "5. Try both *Cohen's kappa* as well as *balanced accuracy* (independent of each other) as the scoring criterion in cross validation"
   ]
  },
  {
   "cell_type": "code",
   "execution_count": 21,
   "metadata": {},
   "outputs": [],
   "source": [
    "import sklearn\n",
    "from sklearn.linear_model import Perceptron\n",
    "from sklearn.naive_bayes import GaussianNB\n",
    "from sklearn.svm import SVC\n",
    "from sklearn.pipeline import Pipeline\n",
    "from sklearn.model_selection import cross_val_score\n",
    "from sklearn.ensemble import VotingClassifier\n",
    "from sklearn.metrics import cohen_kappa_score\n",
    "from sklearn.metrics import make_scorer"
   ]
  },
  {
   "cell_type": "code",
   "execution_count": 22,
   "metadata": {},
   "outputs": [
    {
     "name": "stdout",
     "output_type": "stream",
     "text": [
      "10-fold cross validation:\n",
      "\n",
      "ROC AUC: 0.99 (+/- 0.01) [Perceptron]\n",
      "ROC AUC: 0.99 (+/- 0.01) [Gaussian Naive Bayes]\n",
      "ROC AUC: 0.99 (+/- 0.01) [SVC]\n"
     ]
    }
   ],
   "source": [
    "clf_perceptron = Perceptron(max_iter=50, tol=0.001, random_state=0)\n",
    "clf_gnb = GaussianNB()\n",
    "clf_svc = SVC(gamma='auto', random_state=0)\n",
    "\n",
    "\n",
    "clf_labels = ['Perceptron', 'Gaussian Naive Bayes', 'SVC']\n",
    "\n",
    "print('10-fold cross validation:\\n')\n",
    "for clf, label in zip([clf_perceptron, clf_gnb, clf_svc], clf_labels):\n",
    "    scores = cross_val_score(estimator=clf, X=X_train, y=y_train, cv=10, scoring='roc_auc') \n",
    "    print(\"ROC AUC: %0.2f (+/- %0.2f) [%s]\" \n",
    "               % (scores.mean(), scores.std(), label))"
   ]
  },
  {
   "cell_type": "code",
   "execution_count": 23,
   "metadata": {},
   "outputs": [],
   "source": [
    "clf_vc = VotingClassifier(estimators=[('Perceptron', clf_perceptron), ('Gaussian Naive Bayes', clf_gnb), ('SVC', clf_svc)],\n",
    "                          voting='hard')"
   ]
  },
  {
   "cell_type": "markdown",
   "metadata": {},
   "source": [
    "Accuracy:"
   ]
  },
  {
   "cell_type": "code",
   "execution_count": 24,
   "metadata": {},
   "outputs": [
    {
     "name": "stdout",
     "output_type": "stream",
     "text": [
      "ROC AUC: 0.94 (+/- 0.03) [Perceptron]\n",
      "ROC AUC: 0.96 (+/- 0.02) [Gaussian Naive Bayes]\n",
      "ROC AUC: 0.95 (+/- 0.03) [SVC]\n",
      "ROC AUC: 0.95 (+/- 0.02) [Voting Classifier (hard)]\n"
     ]
    }
   ],
   "source": [
    "clf_labels += ['Voting Classifier (hard)']\n",
    "all_clf = [clf_perceptron, clf_gnb, clf_svc, clf_vc]\n",
    "\n",
    "for clf, label in zip(all_clf, clf_labels):\n",
    "    scores = cross_val_score(estimator=clf, X=X_train, y=y_train, cv=10, scoring='accuracy') \n",
    "    print(\"ROC AUC: %0.2f (+/- %0.2f) [%s]\" \n",
    "               % (scores.mean(), scores.std(), label))"
   ]
  },
  {
   "cell_type": "markdown",
   "metadata": {},
   "source": [
    "Cohens Kappa:"
   ]
  },
  {
   "cell_type": "code",
   "execution_count": 25,
   "metadata": {},
   "outputs": [
    {
     "data": {
      "text/plain": [
       "dict_keys(['explained_variance', 'r2', 'neg_median_absolute_error', 'neg_mean_absolute_error', 'neg_mean_squared_error', 'neg_mean_squared_log_error', 'accuracy', 'roc_auc', 'balanced_accuracy', 'average_precision', 'neg_log_loss', 'brier_score_loss', 'adjusted_rand_score', 'homogeneity_score', 'completeness_score', 'v_measure_score', 'mutual_info_score', 'adjusted_mutual_info_score', 'normalized_mutual_info_score', 'fowlkes_mallows_score', 'precision', 'precision_macro', 'precision_micro', 'precision_samples', 'precision_weighted', 'recall', 'recall_macro', 'recall_micro', 'recall_samples', 'recall_weighted', 'f1', 'f1_macro', 'f1_micro', 'f1_samples', 'f1_weighted'])"
      ]
     },
     "execution_count": 25,
     "metadata": {},
     "output_type": "execute_result"
    }
   ],
   "source": [
    "# which scores are available? cohens kappa is not available...\n",
    "sklearn.metrics.SCORERS.keys()"
   ]
  },
  {
   "cell_type": "code",
   "execution_count": 26,
   "metadata": {},
   "outputs": [],
   "source": [
    "#create a score for cohens kappa \n",
    "cohen_kappa = make_scorer(cohen_kappa_score, greater_is_better=True)"
   ]
  },
  {
   "cell_type": "code",
   "execution_count": 27,
   "metadata": {},
   "outputs": [
    {
     "name": "stdout",
     "output_type": "stream",
     "text": [
      "ROC AUC: 0.86 (+/- 0.06) [Perceptron]\n",
      "ROC AUC: 0.91 (+/- 0.05) [Gaussian Naive Bayes]\n",
      "ROC AUC: 0.89 (+/- 0.05) [SVC]\n",
      "ROC AUC: 0.90 (+/- 0.05) [Voting Classifier (hard)]\n"
     ]
    }
   ],
   "source": [
    "for clf, label in zip(all_clf, clf_labels):\n",
    "    scores = cross_val_score(estimator=clf, X=X_train, y=y_train, cv=10, scoring=cohen_kappa) \n",
    "    print(\"ROC AUC: %0.2f (+/- %0.2f) [%s]\" \n",
    "               % (scores.mean(), scores.std(), label))"
   ]
  },
  {
   "cell_type": "code",
   "execution_count": 28,
   "metadata": {},
   "outputs": [
    {
     "data": {
      "text/plain": [
       "<function sklearn.metrics.classification.cohen_kappa_score(y1, y2, labels=None, weights=None, sample_weight=None)>"
      ]
     },
     "execution_count": 28,
     "metadata": {},
     "output_type": "execute_result"
    }
   ],
   "source": [
    "sklearn.metrics.cohen_kappa_score"
   ]
  },
  {
   "cell_type": "markdown",
   "metadata": {},
   "source": [
    "Balanced Accuracy:"
   ]
  },
  {
   "cell_type": "code",
   "execution_count": 29,
   "metadata": {},
   "outputs": [
    {
     "name": "stdout",
     "output_type": "stream",
     "text": [
      "ROC AUC: 0.93 (+/- 0.04) [Perceptron]\n",
      "ROC AUC: 0.96 (+/- 0.02) [Gaussian Naive Bayes]\n",
      "ROC AUC: 0.95 (+/- 0.02) [SVC]\n",
      "ROC AUC: 0.95 (+/- 0.02) [Voting Classifier (hard)]\n"
     ]
    }
   ],
   "source": [
    "for clf, label in zip(all_clf, clf_labels):\n",
    "    scores = cross_val_score(estimator=clf, X=X_train, y=y_train, cv=10, scoring='balanced_accuracy') \n",
    "    print(\"ROC AUC: %0.2f (+/- %0.2f) [%s]\" \n",
    "               % (scores.mean(), scores.std(), label))"
   ]
  },
  {
   "cell_type": "markdown",
   "metadata": {},
   "source": [
    "### 4. Plot the decision regions of the voting classifier as well as the base classifiers"
   ]
  },
  {
   "cell_type": "code",
   "execution_count": 30,
   "metadata": {},
   "outputs": [
    {
     "data": {
      "text/plain": [
       "VotingClassifier(estimators=[('Perceptron', Perceptron(alpha=0.0001, class_weight=None, early_stopping=False, eta0=1.0,\n",
       "      fit_intercept=True, max_iter=50, n_iter=None, n_iter_no_change=5,\n",
       "      n_jobs=None, penalty=None, random_state=0, shuffle=True, tol=0.001,\n",
       "      validation_fraction=0.1, verbose=0, warm_star...bf',\n",
       "  max_iter=-1, probability=False, random_state=0, shrinking=True,\n",
       "  tol=0.001, verbose=False))],\n",
       "         flatten_transform=None, n_jobs=None, voting='hard', weights=None)"
      ]
     },
     "execution_count": 30,
     "metadata": {},
     "output_type": "execute_result"
    }
   ],
   "source": [
    "# fit the models in order to plot them\n",
    "clf_perceptron.fit(X_train, y_train)\n",
    "clf_gnb.fit(X_train, y_train)\n",
    "clf_svc.fit(X_train, y_train)\n",
    "clf_vc.fit(X_train, y_train)"
   ]
  },
  {
   "cell_type": "code",
   "execution_count": 31,
   "metadata": {},
   "outputs": [
    {
     "data": {
      "image/png": "[encoded data removed]",
      "text/plain": [
       "<Figure size 720x576 with 4 Axes>"
      ]
     },
     "metadata": {
      "needs_background": "light"
     },
     "output_type": "display_data"
    }
   ],
   "source": [
    "from itertools import product\n",
    "\n",
    "# Plotting decision regions\n",
    "x_min, x_max = X[:, 0].min() - 1, X[:, 0].max() + 1\n",
    "y_min, y_max = X[:, 1].min() - 1, X[:, 1].max() + 1\n",
    "xx, yy = np.meshgrid(np.arange(x_min, x_max, 0.1), np.arange(y_min, y_max, 0.1))\n",
    "\n",
    "f, axarr = plt.subplots(2, 2, sharex='col', sharey='row', figsize=(10, 8))\n",
    "\n",
    "for idx, clf, tt in zip(product([0, 1], [0, 1]), all_clf, clf_labels):\n",
    "    Z = clf.predict(np.c_[xx.ravel(), yy.ravel()])\n",
    "    Z = Z.reshape(xx.shape)\n",
    "\n",
    "    axarr[idx[0], idx[1]].contourf(xx, yy, Z, alpha=0.4)\n",
    "    axarr[idx[0], idx[1]].scatter(X[:, 0], X[:, 1], c=y,\n",
    "                                  s=20, edgecolor='k')\n",
    "    axarr[idx[0], idx[1]].set_title(tt)\n",
    "\n",
    "\n",
    "plt.text(-3.5, -4.5, \n",
    "         s='Worst Radius', \n",
    "         ha='center', va='center', fontsize=12)\n",
    "plt.text(-13.5, 5.0, \n",
    "         s='Worst Concave Points', \n",
    "         ha='center', va='center', \n",
    "         fontsize=12, rotation=90)\n",
    "\n",
    "plt.show()"
   ]
  },
  {
   "cell_type": "markdown",
   "metadata": {},
   "source": [
    "### 5. Check which parameters you might adapt in the voting classifier"
   ]
  },
  {
   "cell_type": "code",
   "execution_count": 32,
   "metadata": {},
   "outputs": [
    {
     "data": {
      "text/plain": [
       "{'estimators': [('Perceptron',\n",
       "   Perceptron(alpha=0.0001, class_weight=None, early_stopping=False, eta0=1.0,\n",
       "         fit_intercept=True, max_iter=50, n_iter=None, n_iter_no_change=5,\n",
       "         n_jobs=None, penalty=None, random_state=0, shuffle=True, tol=0.001,\n",
       "         validation_fraction=0.1, verbose=0, warm_start=False)),\n",
       "  ('Gaussian Naive Bayes', GaussianNB(priors=None, var_smoothing=1e-09)),\n",
       "  ('SVC', SVC(C=1.0, cache_size=200, class_weight=None, coef0=0.0,\n",
       "     decision_function_shape='ovr', degree=3, gamma='auto', kernel='rbf',\n",
       "     max_iter=-1, probability=False, random_state=0, shrinking=True,\n",
       "     tol=0.001, verbose=False))],\n",
       " 'flatten_transform': None,\n",
       " 'n_jobs': None,\n",
       " 'voting': 'hard',\n",
       " 'weights': None,\n",
       " 'Perceptron': Perceptron(alpha=0.0001, class_weight=None, early_stopping=False, eta0=1.0,\n",
       "       fit_intercept=True, max_iter=50, n_iter=None, n_iter_no_change=5,\n",
       "       n_jobs=None, penalty=None, random_state=0, shuffle=True, tol=0.001,\n",
       "       validation_fraction=0.1, verbose=0, warm_start=False),\n",
       " 'Gaussian Naive Bayes': GaussianNB(priors=None, var_smoothing=1e-09),\n",
       " 'SVC': SVC(C=1.0, cache_size=200, class_weight=None, coef0=0.0,\n",
       "   decision_function_shape='ovr', degree=3, gamma='auto', kernel='rbf',\n",
       "   max_iter=-1, probability=False, random_state=0, shrinking=True,\n",
       "   tol=0.001, verbose=False),\n",
       " 'Perceptron__alpha': 0.0001,\n",
       " 'Perceptron__class_weight': None,\n",
       " 'Perceptron__early_stopping': False,\n",
       " 'Perceptron__eta0': 1.0,\n",
       " 'Perceptron__fit_intercept': True,\n",
       " 'Perceptron__max_iter': 50,\n",
       " 'Perceptron__n_iter': None,\n",
       " 'Perceptron__n_iter_no_change': 5,\n",
       " 'Perceptron__n_jobs': None,\n",
       " 'Perceptron__penalty': None,\n",
       " 'Perceptron__random_state': 0,\n",
       " 'Perceptron__shuffle': True,\n",
       " 'Perceptron__tol': 0.001,\n",
       " 'Perceptron__validation_fraction': 0.1,\n",
       " 'Perceptron__verbose': 0,\n",
       " 'Perceptron__warm_start': False,\n",
       " 'Gaussian Naive Bayes__priors': None,\n",
       " 'Gaussian Naive Bayes__var_smoothing': 1e-09,\n",
       " 'SVC__C': 1.0,\n",
       " 'SVC__cache_size': 200,\n",
       " 'SVC__class_weight': None,\n",
       " 'SVC__coef0': 0.0,\n",
       " 'SVC__decision_function_shape': 'ovr',\n",
       " 'SVC__degree': 3,\n",
       " 'SVC__gamma': 'auto',\n",
       " 'SVC__kernel': 'rbf',\n",
       " 'SVC__max_iter': -1,\n",
       " 'SVC__probability': False,\n",
       " 'SVC__random_state': 0,\n",
       " 'SVC__shrinking': True,\n",
       " 'SVC__tol': 0.001,\n",
       " 'SVC__verbose': False}"
      ]
     },
     "execution_count": 32,
     "metadata": {},
     "output_type": "execute_result"
    }
   ],
   "source": [
    "#check params\n",
    "clf_vc.get_params()"
   ]
  },
  {
   "cell_type": "markdown",
   "metadata": {},
   "source": [
    "Balanced Accuracy:"
   ]
  },
  {
   "cell_type": "code",
   "execution_count": 33,
   "metadata": {},
   "outputs": [
    {
     "name": "stdout",
     "output_type": "stream",
     "text": [
      "0.923+/-0.02 {'Perceptron__alpha': 0.0001, 'SVC__C': 0.01, 'SVC__degree': 3}\n",
      "0.923+/-0.02 {'Perceptron__alpha': 0.0001, 'SVC__C': 0.01, 'SVC__degree': 1}\n",
      "0.923+/-0.02 {'Perceptron__alpha': 0.0001, 'SVC__C': 0.01, 'SVC__degree': 2}\n",
      "0.953+/-0.01 {'Perceptron__alpha': 0.0001, 'SVC__C': 2.0, 'SVC__degree': 3}\n",
      "0.953+/-0.01 {'Perceptron__alpha': 0.0001, 'SVC__C': 2.0, 'SVC__degree': 1}\n",
      "0.953+/-0.01 {'Perceptron__alpha': 0.0001, 'SVC__C': 2.0, 'SVC__degree': 2}\n",
      "0.956+/-0.01 {'Perceptron__alpha': 0.0001, 'SVC__C': 3.0, 'SVC__degree': 3}\n",
      "0.956+/-0.01 {'Perceptron__alpha': 0.0001, 'SVC__C': 3.0, 'SVC__degree': 1}\n",
      "0.956+/-0.01 {'Perceptron__alpha': 0.0001, 'SVC__C': 3.0, 'SVC__degree': 2}\n",
      "0.923+/-0.02 {'Perceptron__alpha': 0.1, 'SVC__C': 0.01, 'SVC__degree': 3}\n",
      "0.923+/-0.02 {'Perceptron__alpha': 0.1, 'SVC__C': 0.01, 'SVC__degree': 1}\n",
      "0.923+/-0.02 {'Perceptron__alpha': 0.1, 'SVC__C': 0.01, 'SVC__degree': 2}\n",
      "0.953+/-0.01 {'Perceptron__alpha': 0.1, 'SVC__C': 2.0, 'SVC__degree': 3}\n",
      "0.953+/-0.01 {'Perceptron__alpha': 0.1, 'SVC__C': 2.0, 'SVC__degree': 1}\n",
      "0.953+/-0.01 {'Perceptron__alpha': 0.1, 'SVC__C': 2.0, 'SVC__degree': 2}\n",
      "0.956+/-0.01 {'Perceptron__alpha': 0.1, 'SVC__C': 3.0, 'SVC__degree': 3}\n",
      "0.956+/-0.01 {'Perceptron__alpha': 0.1, 'SVC__C': 3.0, 'SVC__degree': 1}\n",
      "0.956+/-0.01 {'Perceptron__alpha': 0.1, 'SVC__C': 3.0, 'SVC__degree': 2}\n",
      "\n",
      " Best Params for Balanced Accuracy Score:\n",
      "{'Perceptron__alpha': 0.0001, 'SVC__C': 3.0, 'SVC__degree': 3}\n"
     ]
    }
   ],
   "source": [
    "from sklearn.model_selection import GridSearchCV\n",
    "\n",
    "#lets try to adapt some params:\n",
    "params = {'SVC__C': [0.01, 2.0, 3.0],\n",
    "         'Perceptron__alpha': [0.0001, 0.1],\n",
    "         'SVC__degree': [3, 1, 2]}\n",
    "\n",
    "grid = GridSearchCV(estimator=clf_vc, param_grid=params, cv=10, scoring='balanced_accuracy')\n",
    "\n",
    "grid.fit(X_train, y_train)\n",
    "\n",
    "grid_scores = zip(grid.cv_results_['params'],\n",
    "                  grid.cv_results_['mean_test_score'],\n",
    "                  grid.cv_results_['std_test_score'])\n",
    "\n",
    "for params, mean_score, std_score in grid_scores:\n",
    "    print(\"%0.3f+/-%0.2f %r\"\n",
    "            % (mean_score, std_score / 2, params))\n",
    "print('\\n Best Params for Balanced Accuracy Score:')\n",
    "print(grid.best_params_)"
   ]
  },
  {
   "cell_type": "markdown",
   "metadata": {},
   "source": [
    "Accuracy:"
   ]
  },
  {
   "cell_type": "code",
   "execution_count": 34,
   "metadata": {},
   "outputs": [
    {
     "name": "stdout",
     "output_type": "stream",
     "text": [
      "0.937+/-0.01 {'Perceptron__alpha': 0.0001, 'SVC__C': 0.01, 'SVC__degree': 3}\n",
      "0.937+/-0.01 {'Perceptron__alpha': 0.0001, 'SVC__C': 0.01, 'SVC__degree': 1}\n",
      "0.937+/-0.01 {'Perceptron__alpha': 0.0001, 'SVC__C': 0.01, 'SVC__degree': 2}\n",
      "0.955+/-0.01 {'Perceptron__alpha': 0.0001, 'SVC__C': 2.0, 'SVC__degree': 3}\n",
      "0.955+/-0.01 {'Perceptron__alpha': 0.0001, 'SVC__C': 2.0, 'SVC__degree': 1}\n",
      "0.955+/-0.01 {'Perceptron__alpha': 0.0001, 'SVC__C': 2.0, 'SVC__degree': 2}\n",
      "0.957+/-0.01 {'Perceptron__alpha': 0.0001, 'SVC__C': 3.0, 'SVC__degree': 3}\n",
      "0.957+/-0.01 {'Perceptron__alpha': 0.0001, 'SVC__C': 3.0, 'SVC__degree': 1}\n",
      "0.957+/-0.01 {'Perceptron__alpha': 0.0001, 'SVC__C': 3.0, 'SVC__degree': 2}\n",
      "0.937+/-0.01 {'Perceptron__alpha': 0.1, 'SVC__C': 0.01, 'SVC__degree': 3}\n",
      "0.937+/-0.01 {'Perceptron__alpha': 0.1, 'SVC__C': 0.01, 'SVC__degree': 1}\n",
      "0.937+/-0.01 {'Perceptron__alpha': 0.1, 'SVC__C': 0.01, 'SVC__degree': 2}\n",
      "0.955+/-0.01 {'Perceptron__alpha': 0.1, 'SVC__C': 2.0, 'SVC__degree': 3}\n",
      "0.955+/-0.01 {'Perceptron__alpha': 0.1, 'SVC__C': 2.0, 'SVC__degree': 1}\n",
      "0.955+/-0.01 {'Perceptron__alpha': 0.1, 'SVC__C': 2.0, 'SVC__degree': 2}\n",
      "0.957+/-0.01 {'Perceptron__alpha': 0.1, 'SVC__C': 3.0, 'SVC__degree': 3}\n",
      "0.957+/-0.01 {'Perceptron__alpha': 0.1, 'SVC__C': 3.0, 'SVC__degree': 1}\n",
      "0.957+/-0.01 {'Perceptron__alpha': 0.1, 'SVC__C': 3.0, 'SVC__degree': 2}\n",
      "\n",
      " Best Params for Accuracy Score:\n",
      "{'Perceptron__alpha': 0.0001, 'SVC__C': 3.0, 'SVC__degree': 3}\n"
     ]
    }
   ],
   "source": [
    "#lets try to adapt some params:\n",
    "params = {'SVC__C': [0.01, 2.0, 3.0],\n",
    "         'Perceptron__alpha': [0.0001, 0.1],\n",
    "         'SVC__degree': [3, 1, 2]}\n",
    "\n",
    "grid = GridSearchCV(estimator=clf_vc, param_grid=params, cv=10, scoring='accuracy')\n",
    "\n",
    "grid.fit(X_train, y_train)\n",
    "\n",
    "grid_scores = zip(grid.cv_results_['params'],\n",
    "                  grid.cv_results_['mean_test_score'],\n",
    "                  grid.cv_results_['std_test_score'])\n",
    "\n",
    "for params, mean_score, std_score in grid_scores:\n",
    "    print(\"%0.3f+/-%0.2f %r\"\n",
    "            % (mean_score, std_score / 2, params))\n",
    "print('\\n Best Params for Accuracy Score:')\n",
    "print(grid.best_params_)"
   ]
  },
  {
   "cell_type": "markdown",
   "metadata": {},
   "source": [
    "Cohens Kappa Score:"
   ]
  },
  {
   "cell_type": "code",
   "execution_count": 35,
   "metadata": {},
   "outputs": [
    {
     "name": "stdout",
     "output_type": "stream",
     "text": [
      "0.863+/-0.03 {'Perceptron__alpha': 0.0001, 'SVC__C': 0.01, 'SVC__degree': 3}\n",
      "0.863+/-0.03 {'Perceptron__alpha': 0.0001, 'SVC__C': 0.01, 'SVC__degree': 1}\n",
      "0.863+/-0.03 {'Perceptron__alpha': 0.0001, 'SVC__C': 0.01, 'SVC__degree': 2}\n",
      "0.904+/-0.03 {'Perceptron__alpha': 0.0001, 'SVC__C': 2.0, 'SVC__degree': 3}\n",
      "0.904+/-0.03 {'Perceptron__alpha': 0.0001, 'SVC__C': 2.0, 'SVC__degree': 1}\n",
      "0.904+/-0.03 {'Perceptron__alpha': 0.0001, 'SVC__C': 2.0, 'SVC__degree': 2}\n",
      "0.910+/-0.02 {'Perceptron__alpha': 0.0001, 'SVC__C': 3.0, 'SVC__degree': 3}\n",
      "0.910+/-0.02 {'Perceptron__alpha': 0.0001, 'SVC__C': 3.0, 'SVC__degree': 1}\n",
      "0.910+/-0.02 {'Perceptron__alpha': 0.0001, 'SVC__C': 3.0, 'SVC__degree': 2}\n",
      "0.863+/-0.03 {'Perceptron__alpha': 0.1, 'SVC__C': 0.01, 'SVC__degree': 3}\n",
      "0.863+/-0.03 {'Perceptron__alpha': 0.1, 'SVC__C': 0.01, 'SVC__degree': 1}\n",
      "0.863+/-0.03 {'Perceptron__alpha': 0.1, 'SVC__C': 0.01, 'SVC__degree': 2}\n",
      "0.904+/-0.03 {'Perceptron__alpha': 0.1, 'SVC__C': 2.0, 'SVC__degree': 3}\n",
      "0.904+/-0.03 {'Perceptron__alpha': 0.1, 'SVC__C': 2.0, 'SVC__degree': 1}\n",
      "0.904+/-0.03 {'Perceptron__alpha': 0.1, 'SVC__C': 2.0, 'SVC__degree': 2}\n",
      "0.910+/-0.02 {'Perceptron__alpha': 0.1, 'SVC__C': 3.0, 'SVC__degree': 3}\n",
      "0.910+/-0.02 {'Perceptron__alpha': 0.1, 'SVC__C': 3.0, 'SVC__degree': 1}\n",
      "0.910+/-0.02 {'Perceptron__alpha': 0.1, 'SVC__C': 3.0, 'SVC__degree': 2}\n",
      "\n",
      " Best Params for Cohens Kappa Score:\n",
      "{'Perceptron__alpha': 0.0001, 'SVC__C': 3.0, 'SVC__degree': 3}\n"
     ]
    }
   ],
   "source": [
    "#lets try to adapt some params:\n",
    "params = {'SVC__C': [0.01, 2.0, 3.0],\n",
    "         'Perceptron__alpha': [0.0001, 0.1],\n",
    "         'SVC__degree': [3, 1, 2]}\n",
    "\n",
    "grid = GridSearchCV(estimator=clf_vc, param_grid=params, cv=10, scoring=cohen_kappa)\n",
    "\n",
    "grid.fit(X_train, y_train)\n",
    "\n",
    "grid_scores = zip(grid.cv_results_['params'],\n",
    "                  grid.cv_results_['mean_test_score'],\n",
    "                  grid.cv_results_['std_test_score'])\n",
    "\n",
    "for params, mean_score, std_score in grid_scores:\n",
    "    print(\"%0.3f+/-%0.2f %r\"\n",
    "            % (mean_score, std_score / 2, params))\n",
    "print('\\n Best Params for Cohens Kappa Score:')\n",
    "print(grid.best_params_)"
   ]
  },
  {
   "cell_type": "markdown",
   "metadata": {},
   "source": [
    "### 6. Perform a grid search using the number of iterations for the perceptron and the support vector machine\n",
    "0. Use *balanced accuracy* for scoring.\n",
    "1. For the perceptron, try 5, 10, and 20 iterations\n",
    "2. For the SVM, try 10, 20, and 50 iterations"
   ]
  },
  {
   "cell_type": "code",
   "execution_count": 36,
   "metadata": {},
   "outputs": [
    {
     "name": "stdout",
     "output_type": "stream",
     "text": [
      "0.940+/-0.02 {'Perceptron__max_iter': 5, 'Perceptron__n_iter': 5, 'SVC__max_iter': 10}\n",
      "0.947+/-0.01 {'Perceptron__max_iter': 5, 'Perceptron__n_iter': 5, 'SVC__max_iter': 20}\n",
      "0.954+/-0.01 {'Perceptron__max_iter': 5, 'Perceptron__n_iter': 5, 'SVC__max_iter': 50}\n",
      "0.940+/-0.02 {'Perceptron__max_iter': 5, 'Perceptron__n_iter': 10, 'SVC__max_iter': 10}\n",
      "0.947+/-0.01 {'Perceptron__max_iter': 5, 'Perceptron__n_iter': 10, 'SVC__max_iter': 20}\n",
      "0.950+/-0.01 {'Perceptron__max_iter': 5, 'Perceptron__n_iter': 10, 'SVC__max_iter': 50}\n",
      "0.923+/-0.02 {'Perceptron__max_iter': 5, 'Perceptron__n_iter': 20, 'SVC__max_iter': 10}\n",
      "0.938+/-0.02 {'Perceptron__max_iter': 5, 'Perceptron__n_iter': 20, 'SVC__max_iter': 20}\n",
      "0.950+/-0.01 {'Perceptron__max_iter': 5, 'Perceptron__n_iter': 20, 'SVC__max_iter': 50}\n",
      "0.940+/-0.02 {'Perceptron__max_iter': 10, 'Perceptron__n_iter': 5, 'SVC__max_iter': 10}\n",
      "0.947+/-0.01 {'Perceptron__max_iter': 10, 'Perceptron__n_iter': 5, 'SVC__max_iter': 20}\n",
      "0.954+/-0.01 {'Perceptron__max_iter': 10, 'Perceptron__n_iter': 5, 'SVC__max_iter': 50}\n",
      "0.940+/-0.02 {'Perceptron__max_iter': 10, 'Perceptron__n_iter': 10, 'SVC__max_iter': 10}\n",
      "0.947+/-0.01 {'Perceptron__max_iter': 10, 'Perceptron__n_iter': 10, 'SVC__max_iter': 20}\n",
      "0.950+/-0.01 {'Perceptron__max_iter': 10, 'Perceptron__n_iter': 10, 'SVC__max_iter': 50}\n",
      "0.923+/-0.02 {'Perceptron__max_iter': 10, 'Perceptron__n_iter': 20, 'SVC__max_iter': 10}\n",
      "0.938+/-0.02 {'Perceptron__max_iter': 10, 'Perceptron__n_iter': 20, 'SVC__max_iter': 20}\n",
      "0.950+/-0.01 {'Perceptron__max_iter': 10, 'Perceptron__n_iter': 20, 'SVC__max_iter': 50}\n",
      "0.940+/-0.02 {'Perceptron__max_iter': 20, 'Perceptron__n_iter': 5, 'SVC__max_iter': 10}\n",
      "0.947+/-0.01 {'Perceptron__max_iter': 20, 'Perceptron__n_iter': 5, 'SVC__max_iter': 20}\n",
      "0.954+/-0.01 {'Perceptron__max_iter': 20, 'Perceptron__n_iter': 5, 'SVC__max_iter': 50}\n",
      "0.940+/-0.02 {'Perceptron__max_iter': 20, 'Perceptron__n_iter': 10, 'SVC__max_iter': 10}\n",
      "0.947+/-0.01 {'Perceptron__max_iter': 20, 'Perceptron__n_iter': 10, 'SVC__max_iter': 20}\n",
      "0.950+/-0.01 {'Perceptron__max_iter': 20, 'Perceptron__n_iter': 10, 'SVC__max_iter': 50}\n",
      "0.923+/-0.02 {'Perceptron__max_iter': 20, 'Perceptron__n_iter': 20, 'SVC__max_iter': 10}\n",
      "0.938+/-0.02 {'Perceptron__max_iter': 20, 'Perceptron__n_iter': 20, 'SVC__max_iter': 20}\n",
      "0.950+/-0.01 {'Perceptron__max_iter': 20, 'Perceptron__n_iter': 20, 'SVC__max_iter': 50}\n",
      "\n",
      " Best Params for Balanced Accuracy Score:\n",
      "{'Perceptron__max_iter': 5, 'Perceptron__n_iter': 5, 'SVC__max_iter': 50}\n"
     ]
    }
   ],
   "source": [
    "#it is not clear from the question whether I should change param n_iter or max_iter thats why I try both param\n",
    "#In the result we can see that the best param is the same for both\n",
    "params = {'Perceptron__n_iter': [5, 10, 20],\n",
    "          'Perceptron__max_iter': [5, 10, 20],\n",
    "          'SVC__max_iter': [10, 20, 50]}\n",
    "\n",
    "grid = GridSearchCV(estimator=clf_vc, param_grid=params, cv=10, scoring='balanced_accuracy')\n",
    "\n",
    "grid.fit(X_train, y_train)\n",
    "\n",
    "grid_scores = zip(grid.cv_results_['params'],\n",
    "                  grid.cv_results_['mean_test_score'],\n",
    "                  grid.cv_results_['std_test_score'])\n",
    "\n",
    "for params, mean_score, std_score in grid_scores:\n",
    "    print(\"%0.3f+/-%0.2f %r\"\n",
    "            % (mean_score, std_score / 2, params))\n",
    "\n",
    "print('\\n Best Params for Balanced Accuracy Score:')\n",
    "print(grid.best_params_)"
   ]
  },
  {
   "cell_type": "markdown",
   "metadata": {},
   "source": [
    "### 7. Train an Adaboost classifier with a perceptron as a base classifier as well as a random forest and compare their respective accuracies (also to the base classifier)\n",
    "0. Again, use *balanced accuracy* for scoring.\n",
    "1. For the perceptron, use the same parameters as above except for the maximum number of iterations which should be 5.\n",
    "2. Since the perceptron does not offer class probabilities, you must specify `algorithm='SAMME'` for Adaboost. Apart from this (and the *base estimator*), you can use the parameters we employed in class.\n",
    "3. For the random forest, you can use the parameters we employed in class."
   ]
  },
  {
   "cell_type": "code",
   "execution_count": 37,
   "metadata": {},
   "outputs": [],
   "source": [
    "from sklearn.ensemble import RandomForestClassifier\n",
    "\n",
    "clf_perceptron2 = Perceptron(max_iter=5, tol=0.001, random_state=0)\n",
    "forest = RandomForestClassifier(criterion='entropy', n_estimators=10, random_state=1, n_jobs=2)"
   ]
  },
  {
   "cell_type": "code",
   "execution_count": 38,
   "metadata": {},
   "outputs": [],
   "source": [
    "from sklearn.ensemble import AdaBoostClassifier\n",
    "\n",
    "ada = AdaBoostClassifier(base_estimator=clf_perceptron2, algorithm='SAMME', n_estimators=500,\n",
    "                         learning_rate=0.1,\n",
    "                         random_state=0)"
   ]
  },
  {
   "cell_type": "code",
   "execution_count": 39,
   "metadata": {},
   "outputs": [
    {
     "name": "stdout",
     "output_type": "stream",
     "text": [
      "Perceptron train/test accuracies 0.907/0.901\n",
      "AdaBoost train/test accuracies 0.957/0.936\n"
     ]
    }
   ],
   "source": [
    "from sklearn.metrics import accuracy_score\n",
    "\n",
    "#comparison perceptron and adaboost with perceptron as a base classifier\n",
    "clf_perceptron2 = clf_perceptron2.fit(X_train, y_train)\n",
    "y_train_pred = clf_perceptron2.predict(X_train)\n",
    "y_test_pred = clf_perceptron2.predict(X_test)\n",
    "clf_perceptron2_train = accuracy_score(y_train, y_train_pred)\n",
    "clf_perceptron2_test = accuracy_score(y_test, y_test_pred)\n",
    "print('Perceptron train/test accuracies %.3f/%.3f'\n",
    "      % (clf_perceptron2_train, clf_perceptron2_test))\n",
    "\n",
    "ada = ada.fit(X_train, y_train)\n",
    "y_train_pred = ada.predict(X_train)\n",
    "y_test_pred = ada.predict(X_test)\n",
    "ada_train = accuracy_score(y_train, y_train_pred) \n",
    "ada_test = accuracy_score(y_test, y_test_pred) \n",
    "print('AdaBoost train/test accuracies %.3f/%.3f'\n",
    "      % (ada_train, ada_test))"
   ]
  },
  {
   "cell_type": "code",
   "execution_count": 43,
   "metadata": {},
   "outputs": [
    {
     "name": "stdout",
     "output_type": "stream",
     "text": [
      "Random forest train/test accuracies 1.000/0.906\n",
      "AdaBoost2 train/test accuracies 1.000/0.924\n"
     ]
    }
   ],
   "source": [
    "ada2 = AdaBoostClassifier(base_estimator=forest, algorithm='SAMME', n_estimators=500,\n",
    "                         learning_rate=0.1,\n",
    "                         random_state=0)\n",
    "\n",
    "#comparison random forrest and adaboost with random forrest as a base classifier\n",
    "forest = forest.fit(X_train, y_train)\n",
    "y_train_pred = forest.predict(X_train)\n",
    "y_test_pred = forest.predict(X_test)\n",
    "forest_train = accuracy_score(y_train, y_train_pred) \n",
    "forest_test = accuracy_score(y_test, y_test_pred) \n",
    "print('Random forest train/test accuracies %.3f/%.3f'\n",
    "      % (forest_train, forest_test))\n",
    "\n",
    "ada2 = ada2.fit(X_train, y_train)\n",
    "y_train_pred = ada2.predict(X_train)\n",
    "y_test_pred = ada2.predict(X_test)\n",
    "ada2_train = accuracy_score(y_train, y_train_pred) \n",
    "ada2_test = accuracy_score(y_test, y_test_pred) \n",
    "print('AdaBoost2 train/test accuracies %.3f/%.3f'\n",
    "      % (ada2_train, ada2_test))"
   ]
  },
  {
   "cell_type": "markdown",
   "metadata": {},
   "source": [
    "### 8.  Plot the decision regions for the classifiers you just constructed"
   ]
  },
  {
   "cell_type": "code",
   "execution_count": 41,
   "metadata": {},
   "outputs": [
    {
     "data": {
      "image/png": "[encoded data removed]",
      "text/plain": [
       "<Figure size 864x288 with 2 Axes>"
      ]
     },
     "metadata": {
      "needs_background": "light"
     },
     "output_type": "display_data"
    }
   ],
   "source": [
    "x_min, x_max = X_train[:, 0].min() - 0.5, X_train[:, 0].max() + 0.5\n",
    "y_min, y_max = X_train[:, 1].min() - 0.2, X_train[:, 1].max() + 0.2\n",
    "xx, yy = np.meshgrid(np.arange(x_min, x_max, 0.1),\n",
    "                     np.arange(y_min, y_max, 0.1))\n",
    "\n",
    "f, axarr = plt.subplots(1, 2, sharex='col', sharey='row', figsize=(12, 4))\n",
    "\n",
    "\n",
    "for idx, clf, tt in zip([0, 1],\n",
    "                        [clf_perceptron2, ada],\n",
    "                        ['Perceptron', 'AdaBoost']):\n",
    "    clf.fit(X_train, y_train)\n",
    "    \n",
    "    Z = clf.predict(np.c_[xx.ravel(), yy.ravel()])\n",
    "    Z = Z.reshape(xx.shape)\n",
    "\n",
    "    axarr[idx].contourf(xx, yy, Z, cmap='coolwarm', alpha=0.3)\n",
    "    axarr[idx].scatter(X_train[y_train==0, 0], \n",
    "                       X_train[y_train==0, 1], \n",
    "                       c='blue', marker='^')\n",
    "    axarr[idx].scatter(X_train[y_train==1, 0], \n",
    "                       X_train[y_train==1, 1], \n",
    "                       c='red', marker='o')\n",
    "    axarr[idx].set_title(tt)\n",
    "    \n",
    "\n",
    "\n",
    "axarr[0].set_ylabel('Worst Concave Points', fontsize=12)\n",
    "axarr[0].set_xlabel('Worst Radius', fontsize=12)\n",
    "    \n",
    "# plt.tight_layout()\n",
    "#plt.savefig('./figures/adaboost_region.png', \n",
    "#           dpi=300, \n",
    "#           bbox_inches='tight')\n",
    "plt.show()"
   ]
  },
  {
   "cell_type": "code",
   "execution_count": 42,
   "metadata": {},
   "outputs": [
    {
     "data": {
      "image/png": "[encoded data removed]",
      "text/plain": [
       "<Figure size 864x288 with 2 Axes>"
      ]
     },
     "metadata": {
      "needs_background": "light"
     },
     "output_type": "display_data"
    }
   ],
   "source": [
    "x_min, x_max = X_train[:, 0].min() - 0.5, X_train[:, 0].max() + 0.5\n",
    "y_min, y_max = X_train[:, 1].min() - 0.2, X_train[:, 1].max() + 0.2\n",
    "xx, yy = np.meshgrid(np.arange(x_min, x_max, 0.1),\n",
    "                     np.arange(y_min, y_max, 0.1))\n",
    "\n",
    "f, axarr = plt.subplots(1, 2, sharex='col', sharey='row', figsize=(12, 4))\n",
    "\n",
    "\n",
    "for idx, clf, tt in zip([0, 1],\n",
    "                        [forest, ada2],\n",
    "                        ['Random Forrest', 'AdaBoost2']):\n",
    "    clf.fit(X_train, y_train)\n",
    "    \n",
    "    Z = clf.predict(np.c_[xx.ravel(), yy.ravel()])\n",
    "    Z = Z.reshape(xx.shape)\n",
    "\n",
    "    axarr[idx].contourf(xx, yy, Z, cmap='coolwarm', alpha=0.3)\n",
    "    axarr[idx].scatter(X_train[y_train==0, 0], \n",
    "                       X_train[y_train==0, 1], \n",
    "                       c='blue', marker='^')\n",
    "    axarr[idx].scatter(X_train[y_train==1, 0], \n",
    "                       X_train[y_train==1, 1], \n",
    "                       c='red', marker='o')\n",
    "    axarr[idx].set_title(tt)\n",
    "    \n",
    "\n",
    "\n",
    "axarr[0].set_ylabel('Worst Concave Points', fontsize=12)\n",
    "axarr[0].set_xlabel('Worst Radius', fontsize=12)\n",
    "\n",
    "plt.show()"
   ]
  },
  {
   "cell_type": "code",
   "execution_count": null,
   "metadata": {},
   "outputs": [],
   "source": []
  }
 ],
 "metadata": {
  "kernelspec": {
   "display_name": "Python 3",
   "language": "python",
   "name": "python3"
  },
  "language_info": {
   "codemirror_mode": {
    "name": "ipython",
    "version": 3
   },
   "file_extension": ".py",
   "mimetype": "text/x-python",
   "name": "python",
   "nbconvert_exporter": "python",
   "pygments_lexer": "ipython3",
   "version": "3.7.1"
  }
 },
 "nbformat": 4,
 "nbformat_minor": 1
}
